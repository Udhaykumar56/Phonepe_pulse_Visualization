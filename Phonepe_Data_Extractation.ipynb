{
 "cells": [
  {
   "cell_type": "code",
   "execution_count": 1,
   "metadata": {},
   "outputs": [],
   "source": [
    "import os\n",
    "import json\n",
    "import pandas as pd\n",
    "import psycopg2\n",
    "import git"
   ]
  },
  {
   "cell_type": "code",
   "execution_count": 3,
   "metadata": {},
   "outputs": [],
   "source": [
    "#Aggregated_issurance\n",
    "\n",
    "path1=\"C:/Users/udhay/OneDrive/Desktop/New folder/PhonePe/pulse/data/aggregated/insurance/country/india/state/\"\n",
    "agg_iss_list= os.listdir(path1)\n",
    "\n",
    "columns1={\"States\":[],\"Years\":[],\"Quarter\":[],\"Transaction_type\":[],\"Transaction_count\":[],\"Transaction_amount\":[]}\n",
    "for state in agg_iss_list:\n",
    "    current_states=path1+state+\"/\"\n",
    "    agg_year_lists=os.listdir(current_states)\n",
    "    \n",
    "    for year in agg_year_lists:\n",
    "        current_year=current_states+year+\"/\"\n",
    "        agg_iss_file_lists=os.listdir(current_year)\n",
    "\n",
    "        for file in agg_iss_file_lists:\n",
    "            current_file=current_year+file\n",
    "            data=open(current_file,\"r\")\n",
    "\n",
    "            read_file1=json.load(data)\n",
    "            for i in read_file1[\"data\"][\"transactionData\"]:\n",
    "                name=i[\"name\"]\n",
    "                count=i[\"paymentInstruments\"][0][\"count\"]\n",
    "                amount=i[\"paymentInstruments\"][0][\"amount\"]\n",
    "                columns1[\"Transaction_type\"].append(name)\n",
    "                columns1[\"Transaction_count\"].append(count)\n",
    "                columns1[\"Transaction_amount\"].append(amount)\n",
    "                columns1[\"States\"].append(state)\n",
    "                columns1[\"Years\"].append(year)\n",
    "                columns1[\"Quarter\"].append(int(file.strip(\".json\")))\n",
    "\n",
    "Aggregated_issurance=pd.DataFrame(columns1)\n",
    "\n",
    "Aggregated_issurance[\"States\"] = Aggregated_issurance[\"States\"].str.replace(\"andaman-&-nicobar-islands\",\"Andaman & Nicobar\")\n",
    "Aggregated_issurance[\"States\"] = Aggregated_issurance[\"States\"].str.replace(\"-\",\" \")\n",
    "Aggregated_issurance[\"States\"] = Aggregated_issurance[\"States\"].str.title()\n",
    "Aggregated_issurance['States'] = Aggregated_issurance['States'].str.replace(\"Dadra & Nagar Haveli & Daman & Diu\", \"Dadra and Nagar Haveli and Daman and Diu\")\n"
   ]
  },
  {
   "cell_type": "code",
   "execution_count": 4,
   "metadata": {},
   "outputs": [],
   "source": [
    "#Aggregated_transaction\n",
    "\n",
    "path2=\"C:/Users/udhay/OneDrive/Desktop/New folder/PhonePe/pulse/data/aggregated/transaction/country/india/state/\"\n",
    "agg_tra_list= os.listdir(path2)\n",
    "\n",
    "columns2={\"States\":[],\"Years\":[],\"Quarter\":[],\"Transaction_type\":[],\"Transaction_count\":[],\"Transaction_amount\":[]}\n",
    "for state in agg_tra_list:\n",
    "    current_states=path2+state+\"/\"\n",
    "    agg_year_lists=os.listdir(current_states)\n",
    "\n",
    "    for year in agg_year_lists:\n",
    "        current_year=current_states+year+\"/\"\n",
    "        agg_tra_file_lists=os.listdir(current_year)\n",
    "        \n",
    "        for file in agg_tra_file_lists:\n",
    "            current_file=current_year+file\n",
    "            data=open(current_file,\"r\")\n",
    "\n",
    "            read_file2=json.load(data)\n",
    "            for i in read_file2[\"data\"][\"transactionData\"]:\n",
    "                name=i[\"name\"]\n",
    "                count=i[\"paymentInstruments\"][0][\"count\"]\n",
    "                amount=i[\"paymentInstruments\"][0][\"amount\"]\n",
    "                columns2[\"Transaction_type\"].append(name)\n",
    "                columns2[\"Transaction_count\"].append(count)\n",
    "                columns2[\"Transaction_amount\"].append(amount)\n",
    "                columns2[\"States\"].append(state)\n",
    "                columns2[\"Years\"].append(year)\n",
    "                columns2[\"Quarter\"].append(int(file.strip(\".json\")))\n",
    "\n",
    "Aggregated_transaction=pd.DataFrame(columns2)\n",
    "\n",
    "Aggregated_transaction[\"States\"] = Aggregated_transaction[\"States\"].str.replace(\"andaman-&-nicobar-islands\",\"Andaman & Nicobar\")\n",
    "Aggregated_transaction[\"States\"] = Aggregated_transaction[\"States\"].str.replace(\"-\",\" \")\n",
    "Aggregated_transaction[\"States\"] = Aggregated_transaction[\"States\"].str.title()\n",
    "Aggregated_transaction['States'] = Aggregated_transaction['States'].str.replace(\"Dadra & Nagar Haveli & Daman & Diu\", \"Dadra and Nagar Haveli and Daman and Diu\")"
   ]
  },
  {
   "cell_type": "code",
   "execution_count": 5,
   "metadata": {},
   "outputs": [],
   "source": [
    "#Aggregated_User\n",
    "\n",
    "path3=\"C:/Users/udhay/OneDrive/Desktop/New folder/PhonePe/pulse/data/aggregated/user/country/india/state/\"\n",
    "agg_usr_list= os.listdir(path3)\n",
    "\n",
    "columns3={\"States\":[],\"Years\":[],\"Quarter\":[],\"Brands\":[],\"Transaction_count\":[],\"Percentage\":[]}\n",
    "for state in agg_usr_list:\n",
    "    current_states=path3+state+\"/\"\n",
    "    agg_year_lists=os.listdir(current_states)\n",
    "\n",
    "    for year in agg_year_lists:\n",
    "        current_year=current_states+year+\"/\"\n",
    "        agg_usr_file_lists=os.listdir(current_year)\n",
    "        \n",
    "        for file in agg_usr_file_lists:\n",
    "            current_file=current_year+file\n",
    "            data=open(current_file,\"r\")\n",
    "\n",
    "            read_file3=json.load(data)\n",
    "\n",
    "            try:\n",
    "\n",
    "                for i in read_file3[\"data\"][\"usersByDevice\"]:\n",
    "                    brand=i[\"brand\"]\n",
    "                    count=i[\"count\"]\n",
    "                    percentage=i[\"percentage\"]\n",
    "                    columns3[\"Brands\"].append(brand)\n",
    "                    columns3[\"Transaction_count\"].append(count)\n",
    "                    columns3[\"Percentage\"].append(percentage)\n",
    "                    columns3[\"States\"].append(state)\n",
    "                    columns3[\"Years\"].append(year)\n",
    "                    columns3[\"Quarter\"].append(int(file.strip(\".json\")))\n",
    "\n",
    "            except:\n",
    "                pass\n",
    "            \n",
    "Aggregated_User=pd.DataFrame(columns3)\n",
    "\n",
    "Aggregated_User[\"States\"] = Aggregated_User[\"States\"].str.replace(\"andaman-&-nicobar-islands\",\"Andaman & Nicobar\")\n",
    "Aggregated_User[\"States\"] = Aggregated_User[\"States\"].str.replace(\"-\",\" \")\n",
    "Aggregated_User[\"States\"] = Aggregated_User[\"States\"].str.title()\n",
    "Aggregated_User['States'] = Aggregated_User['States'].str.replace(\"Dadra & Nagar Haveli & Daman & Diu\", \"Dadra and Nagar Haveli and Daman and Diu\")\n"
   ]
  },
  {
   "cell_type": "code",
   "execution_count": 6,
   "metadata": {},
   "outputs": [],
   "source": [
    "#Map_Issurance\n",
    "\n",
    "path4=\"C:/Users/udhay/OneDrive/Desktop/New folder/PhonePe/pulse/data/map/insurance/hover/country/india/state/\"\n",
    "map_iss_list= os.listdir(path4)\n",
    "\n",
    "columns4={\"States\":[],\"Years\":[],\"Quarter\":[],\"Districts\":[],\"Transaction_count\":[],\"Transaction_amount\":[]}\n",
    "for state in map_iss_list:\n",
    "    current_states=path4+state+\"/\"\n",
    "    map_year_lists=os.listdir(current_states)\n",
    "\n",
    "    for year in map_year_lists:\n",
    "        current_year=current_states+year+\"/\"\n",
    "        map_iss_file_lists=os.listdir(current_year)\n",
    "        \n",
    "        for file in map_iss_file_lists:\n",
    "            current_file=current_year+file\n",
    "            data=open(current_file,\"r\")\n",
    "\n",
    "            read_file4=json.load(data)\n",
    "\n",
    "            for i in read_file4[\"data\"][\"hoverDataList\"]:\n",
    "                    name=i[\"name\"]\n",
    "                    count=i[\"metric\"][0][\"count\"]\n",
    "                    amount=i[\"metric\"][0][\"amount\"]\n",
    "                    columns4[\"Districts\"].append(name)\n",
    "                    columns4[\"Transaction_count\"].append(count)\n",
    "                    columns4[\"Transaction_amount\"].append(amount)\n",
    "                    columns4[\"States\"].append(state)\n",
    "                    columns4[\"Years\"].append(year)\n",
    "                    columns4[\"Quarter\"].append(int(file.strip(\".json\")))\n",
    "\n",
    "Map_Issurance=pd.DataFrame(columns4)\n",
    "\n",
    "Map_Issurance[\"States\"] = Map_Issurance[\"States\"].str.replace(\"andaman-&-nicobar-islands\",\"Andaman & Nicobar\")\n",
    "Map_Issurance[\"States\"] = Map_Issurance[\"States\"].str.replace(\"-\",\" \")\n",
    "Map_Issurance[\"States\"] = Map_Issurance[\"States\"].str.title()\n",
    "Map_Issurance['States'] = Map_Issurance['States'].str.replace(\"Dadra & Nagar Haveli & Daman & Diu\", \"Dadra and Nagar Haveli and Daman and Diu\")"
   ]
  },
  {
   "cell_type": "code",
   "execution_count": 7,
   "metadata": {},
   "outputs": [],
   "source": [
    "#Map_Transaction\n",
    "\n",
    "path5=\"C:/Users/udhay/OneDrive/Desktop/New folder/PhonePe/pulse/data/map/transaction/hover/country/india/state/\"\n",
    "map_tra_list= os.listdir(path5)\n",
    "\n",
    "columns5={\"States\":[],\"Years\":[],\"Quarter\":[],\"Districts\":[],\"Transaction_count\":[],\"Transaction_amount\":[]}\n",
    "for state in map_tra_list:\n",
    "    current_states=path5+state+\"/\"\n",
    "    map_year_lists=os.listdir(current_states)\n",
    "\n",
    "    for year in map_year_lists:\n",
    "        current_year=current_states+year+\"/\"\n",
    "        map_tra_file_lists=os.listdir(current_year)\n",
    "        \n",
    "        for file in map_tra_file_lists:\n",
    "            current_file=current_year+file\n",
    "            data=open(current_file,\"r\")\n",
    "\n",
    "            read_file5=json.load(data)\n",
    "\n",
    "            for i in read_file5[\"data\"][\"hoverDataList\"]:\n",
    "                    name=i[\"name\"]\n",
    "                    count=i[\"metric\"][0][\"count\"]\n",
    "                    amount=i[\"metric\"][0][\"amount\"]\n",
    "                    columns5[\"Districts\"].append(name)\n",
    "                    columns5[\"Transaction_count\"].append(count)\n",
    "                    columns5[\"Transaction_amount\"].append(amount)\n",
    "                    columns5[\"States\"].append(state)\n",
    "                    columns5[\"Years\"].append(year)\n",
    "                    columns5[\"Quarter\"].append(int(file.strip(\".json\")))\n",
    "\n",
    "Map_Transaction=pd.DataFrame(columns5)\n",
    "\n",
    "Map_Transaction[\"States\"] = Map_Transaction[\"States\"].str.replace(\"andaman-&-nicobar-islands\",\"Andaman & Nicobar\")\n",
    "Map_Transaction[\"States\"] = Map_Transaction[\"States\"].str.replace(\"-\",\" \")\n",
    "Map_Transaction[\"States\"] = Map_Transaction[\"States\"].str.title()\n",
    "Map_Transaction['States'] = Map_Transaction['States'].str.replace(\"Dadra & Nagar Haveli & Daman & Diu\", \"Dadra and Nagar Haveli and Daman and Diu\")"
   ]
  },
  {
   "cell_type": "code",
   "execution_count": 8,
   "metadata": {},
   "outputs": [],
   "source": [
    "#Map_User\n",
    "\n",
    "path6=\"C:/Users/udhay/OneDrive/Desktop/New folder/PhonePe/pulse/data/map/user/hover/country/india/state/\"\n",
    "map_usr_list= os.listdir(path6)\n",
    "\n",
    "columns6={\"States\":[],\"Years\":[],\"Quarter\":[],\"Districts\":[],\"Registered_users\":[],\"App_opens\":[]}\n",
    "for state in map_usr_list:\n",
    "    current_states=path6+state+\"/\"\n",
    "    map_year_lists=os.listdir(current_states)\n",
    "\n",
    "    for year in map_year_lists:\n",
    "        current_year=current_states+year+\"/\"\n",
    "        map_usr_file_lists=os.listdir(current_year)\n",
    "        \n",
    "        for file in map_usr_file_lists:\n",
    "            current_file=current_year+file\n",
    "            data=open(current_file,\"r\")\n",
    "\n",
    "            read_file6=json.load(data)\n",
    "\n",
    "            for i in read_file6[\"data\"][\"hoverData\"].items():\n",
    "                    district=i[0]\n",
    "                    registeredUsers=i[1][\"registeredUsers\"]\n",
    "                    appOpens=i[1][\"appOpens\"]\n",
    "                    columns6[\"Districts\"].append(district)\n",
    "                    columns6[\"Registered_users\"].append(registeredUsers)\n",
    "                    columns6[\"App_opens\"].append(appOpens)\n",
    "                    columns6[\"States\"].append(state)\n",
    "                    columns6[\"Years\"].append(year)\n",
    "                    columns6[\"Quarter\"].append(int(file.strip(\".json\")))\n",
    "\n",
    "Map_User=pd.DataFrame(columns6)\n",
    "\n",
    "Map_User[\"States\"] = Map_User[\"States\"].str.replace(\"andaman-&-nicobar-islands\",\"Andaman & Nicobar\")\n",
    "Map_User[\"States\"] = Map_User[\"States\"].str.replace(\"-\",\" \")\n",
    "Map_User[\"States\"] = Map_User[\"States\"].str.title()\n",
    "Map_User['States'] = Map_User['States'].str.replace(\"Dadra & Nagar Haveli & Daman & Diu\", \"Dadra and Nagar Haveli and Daman and Diu\")"
   ]
  },
  {
   "cell_type": "code",
   "execution_count": 9,
   "metadata": {},
   "outputs": [],
   "source": [
    "#Top_issurance\n",
    "\n",
    "path7=\"C:/Users/udhay/OneDrive/Desktop/New folder/PhonePe/pulse/data/top/insurance/country/india/state/\"\n",
    "top_iss_list= os.listdir(path7)\n",
    "\n",
    "columns7={\"States\":[],\"Years\":[],\"Quarter\":[],\"Pincodes\":[],\"Transaction_count\":[],\"Transaction_amount\":[]}\n",
    "for state in top_iss_list:\n",
    "    current_states=path7+state+\"/\"\n",
    "    top_year_lists=os.listdir(current_states)\n",
    "\n",
    "    for year in top_year_lists:\n",
    "        current_year=current_states+year+\"/\"\n",
    "        top_iss_file_lists=os.listdir(current_year)\n",
    "        \n",
    "        for file in top_iss_file_lists:\n",
    "            current_file=current_year+file\n",
    "            data=open(current_file,\"r\")\n",
    "\n",
    "            read_file7=json.load(data)\n",
    "\n",
    "            for i in read_file7[\"data\"][\"pincodes\"]:\n",
    "                    entityName=i[\"entityName\"]\n",
    "                    count=i[\"metric\"][\"count\"]\n",
    "                    amount=i[\"metric\"][\"amount\"]\n",
    "                    columns7[\"Pincodes\"].append(entityName)\n",
    "                    columns7[\"Transaction_count\"].append(count)\n",
    "                    columns7[\"Transaction_amount\"].append(amount)\n",
    "                    columns7[\"States\"].append(state)\n",
    "                    columns7[\"Years\"].append(year)\n",
    "                    columns7[\"Quarter\"].append(int(file.strip(\".json\")))\n",
    "\n",
    "Top_issurance=pd.DataFrame(columns7)\n",
    "\n",
    "Top_issurance[\"States\"] = Top_issurance[\"States\"].str.replace(\"andaman-&-nicobar-islands\",\"Andaman & Nicobar\")\n",
    "Top_issurance[\"States\"] = Top_issurance[\"States\"].str.replace(\"-\",\" \")\n",
    "Top_issurance[\"States\"] = Top_issurance[\"States\"].str.title()\n",
    "Top_issurance['States'] = Top_issurance['States'].str.replace(\"Dadra & Nagar Haveli & Daman & Diu\", \"Dadra and Nagar Haveli and Daman and Diu\")"
   ]
  },
  {
   "cell_type": "code",
   "execution_count": 10,
   "metadata": {},
   "outputs": [],
   "source": [
    "#Top_transaction\n",
    "\n",
    "path8=\"C:/Users/udhay/OneDrive/Desktop/New folder/PhonePe/pulse/data/top/transaction/country/india/state/\"\n",
    "top_tra_list= os.listdir(path8)\n",
    "\n",
    "columns8={\"States\":[],\"Years\":[],\"Quarter\":[],\"Pincodes\":[],\"Transaction_count\":[],\"Transaction_amount\":[]}\n",
    "for state in top_tra_list:\n",
    "    current_states=path8+state+\"/\"\n",
    "    top_year_lists=os.listdir(current_states)\n",
    "\n",
    "    for year in top_year_lists:\n",
    "        current_year=current_states+year+\"/\"\n",
    "        top_tra_file_lists=os.listdir(current_year)\n",
    "        \n",
    "        for file in top_tra_file_lists:\n",
    "            current_file=current_year+file\n",
    "            data=open(current_file,\"r\")\n",
    "\n",
    "            read_file8=json.load(data)\n",
    "\n",
    "            for i in read_file8[\"data\"][\"pincodes\"]:\n",
    "                    entityName=i[\"entityName\"]\n",
    "                    count=i[\"metric\"][\"count\"]\n",
    "                    amount=i[\"metric\"][\"amount\"]\n",
    "                    columns8[\"Pincodes\"].append(entityName)\n",
    "                    columns8[\"Transaction_count\"].append(count)\n",
    "                    columns8[\"Transaction_amount\"].append(amount)\n",
    "                    columns8[\"States\"].append(state)\n",
    "                    columns8[\"Years\"].append(year)\n",
    "                    columns8[\"Quarter\"].append(int(file.strip(\".json\")))\n",
    "\n",
    "Top_transaction=pd.DataFrame(columns8)\n",
    "\n",
    "Top_transaction[\"States\"] = Top_transaction[\"States\"].str.replace(\"andaman-&-nicobar-islands\",\"Andaman & Nicobar\")\n",
    "Top_transaction[\"States\"] = Top_transaction[\"States\"].str.replace(\"-\",\" \")\n",
    "Top_transaction[\"States\"] = Top_transaction[\"States\"].str.title()\n",
    "Top_transaction['States'] = Top_transaction['States'].str.replace(\"Dadra & Nagar Haveli & Daman & Diu\", \"Dadra and Nagar Haveli and Daman and Diu\")"
   ]
  },
  {
   "cell_type": "code",
   "execution_count": 11,
   "metadata": {},
   "outputs": [],
   "source": [
    "#Top_User\n",
    "\n",
    "path9=\"C:/Users/udhay/OneDrive/Desktop/New folder/PhonePe/pulse/data/top/user/country/india/state/\"\n",
    "top_usr_list= os.listdir(path9)\n",
    "\n",
    "columns9={\"States\":[],\"Years\":[],\"Quarter\":[],\"Pincodes\":[],\"Registered_users\":[]}\n",
    "for state in top_usr_list:\n",
    "    current_states=path9+state+\"/\"\n",
    "    top_year_lists=os.listdir(current_states)\n",
    "\n",
    "    for year in top_year_lists:\n",
    "        current_year=current_states+year+\"/\"\n",
    "        top_usr_file_lists=os.listdir(current_year)\n",
    "        \n",
    "        for file in top_usr_file_lists:\n",
    "            current_file=current_year+file\n",
    "            data=open(current_file,\"r\")\n",
    "\n",
    "            read_file9=json.load(data)\n",
    "\n",
    "            for i in read_file9[\"data\"][\"pincodes\"]:\n",
    "                    name=i[\"name\"]\n",
    "                    registeredUsers=i[\"registeredUsers\"]\n",
    "                    columns9[\"Pincodes\"].append(name)\n",
    "                    columns9[\"Registered_users\"].append(registeredUsers)\n",
    "                    columns9[\"States\"].append(state)\n",
    "                    columns9[\"Years\"].append(year)\n",
    "                    columns9[\"Quarter\"].append(int(file.strip(\".json\")))\n",
    "\n",
    "Top_User=pd.DataFrame(columns9)     \n",
    "\n",
    "Top_User[\"States\"] = Top_User[\"States\"].str.replace(\"andaman-&-nicobar-islands\",\"Andaman & Nicobar\")\n",
    "Top_User[\"States\"] = Top_User[\"States\"].str.replace(\"-\",\" \")\n",
    "Top_User[\"States\"] = Top_User[\"States\"].str.title()\n",
    "Top_User['States'] = Top_User['States'].str.replace(\"Dadra & Nagar Haveli & Daman & Diu\", \"Dadra and Nagar Haveli and Daman and Diu\")"
   ]
  },
  {
   "cell_type": "code",
   "execution_count": 12,
   "metadata": {},
   "outputs": [],
   "source": [
    "#pgsql connection\n",
    "\n",
    "mydb=psycopg2.connect(host=\"localhost\",\n",
    "                     user=\"postgres\",\n",
    "                     password=\"Born@1998\",\n",
    "                     database=\"Phonepe_data\",\n",
    "                     port=\"5432\")\n",
    "cursor=mydb.cursor()"
   ]
  },
  {
   "cell_type": "code",
   "execution_count": 13,
   "metadata": {},
   "outputs": [],
   "source": [
    "#aggregated insurance table\n",
    "create_query= '''CREATE TABLE if not exists aggregated_insurance (States varchar(50),\n",
    "                                                                      Years int,\n",
    "                                                                      Quarter int,\n",
    "                                                                      Transaction_type varchar(50),\n",
    "                                                                      Transaction_count bigint,\n",
    "                                                                      Transaction_amount bigint\n",
    "                                                                      )'''\n",
    "cursor.execute(create_query)\n",
    "mydb.commit()\n",
    "\n",
    "for index,row in Aggregated_issurance.iterrows():\n",
    "    insert_query = '''INSERT INTO aggregated_insurance (States, Years, Quarter, Transaction_type, Transaction_count, Transaction_amount)\n",
    "                                                        values(%s,%s,%s,%s,%s,%s)'''\n",
    "    values = (row[\"States\"],\n",
    "              row[\"Years\"],\n",
    "              row[\"Quarter\"],\n",
    "              row[\"Transaction_type\"],\n",
    "              row[\"Transaction_count\"],\n",
    "              row[\"Transaction_amount\"]\n",
    "              )\n",
    "    cursor.execute(insert_query,values)\n",
    "    mydb.commit()\n",
    "\n",
    "\n",
    "#aggregated transaction table\n",
    "create_query1 = '''CREATE TABLE if not exists aggregated_transaction (States varchar(50),\n",
    "                                                                      Years int,\n",
    "                                                                      Quarter int,\n",
    "                                                                      Transaction_type varchar(50),\n",
    "                                                                      Transaction_count bigint,\n",
    "                                                                      Transaction_amount bigint\n",
    "                                                                      )'''\n",
    "cursor.execute(create_query1)\n",
    "mydb.commit()\n",
    "\n",
    "for index,row in Aggregated_transaction.iterrows():\n",
    "    insert_query1 = '''INSERT INTO aggregated_transaction (States, Years, Quarter, Transaction_type, Transaction_count, Transaction_amount)\n",
    "                                                        values(%s,%s,%s,%s,%s,%s)'''\n",
    "    values = (row[\"States\"],\n",
    "              row[\"Years\"],\n",
    "              row[\"Quarter\"],\n",
    "              row[\"Transaction_type\"],\n",
    "              row[\"Transaction_count\"],\n",
    "              row[\"Transaction_amount\"]\n",
    "              )\n",
    "    cursor.execute(insert_query1,values)\n",
    "    mydb.commit()\n",
    "\n",
    "#aggregated user table\n",
    "create_query2 = '''CREATE TABLE if not exists aggregated_user (States varchar(50),\n",
    "                                                                      Years int,\n",
    "                                                                      Quarter int,\n",
    "                                                                      Brands varchar(50),\n",
    "                                                                      Transaction_count bigint,\n",
    "                                                                      Percentage float\n",
    "                                                                      )'''\n",
    "cursor.execute(create_query2)\n",
    "mydb.commit()\n",
    "\n",
    "for index,row in Aggregated_User.iterrows():\n",
    "    insert_query2 = '''INSERT INTO aggregated_user (States, Years, Quarter, Brands, Transaction_count, Percentage)\n",
    "                                                        values(%s,%s,%s,%s,%s,%s)'''\n",
    "    values = (row[\"States\"],\n",
    "              row[\"Years\"],\n",
    "              row[\"Quarter\"],\n",
    "              row[\"Brands\"],\n",
    "              row[\"Transaction_count\"],\n",
    "              row[\"Percentage\"]\n",
    "              )\n",
    "    cursor.execute(insert_query2,values)\n",
    "    mydb.commit()"
   ]
  },
  {
   "cell_type": "code",
   "execution_count": 14,
   "metadata": {},
   "outputs": [],
   "source": [
    "#map_insurance_table\n",
    "create_query3 = '''CREATE TABLE if not exists map_insurance (States varchar(50),\n",
    "                                                                      Years int,\n",
    "                                                                      Quarter int,\n",
    "                                                                      Districts varchar(50),\n",
    "                                                                      Transaction_count bigint,\n",
    "                                                                      Transaction_amount bigint\n",
    "                                                                      )'''\n",
    "cursor.execute(create_query3)\n",
    "mydb.commit()\n",
    "\n",
    "for index,row in Map_Issurance.iterrows():\n",
    "    insert_query3 = '''INSERT INTO map_insurance (States, Years, Quarter, Districts, Transaction_count, Transaction_amount)\n",
    "                                                        values(%s,%s,%s,%s,%s,%s)'''\n",
    "    values = (row[\"States\"],\n",
    "              row[\"Years\"],\n",
    "              row[\"Quarter\"],\n",
    "              row[\"Districts\"],\n",
    "              row[\"Transaction_count\"],\n",
    "              row[\"Transaction_amount\"]\n",
    "              )\n",
    "    cursor.execute(insert_query3,values)\n",
    "    mydb.commit()\n",
    "\n",
    "#map_transaction_table\n",
    "create_query4 = '''CREATE TABLE if not exists map_transaction (States varchar(50),\n",
    "                                                                      Years int,\n",
    "                                                                      Quarter int,\n",
    "                                                                      Districts varchar(50),\n",
    "                                                                      Transaction_count bigint,\n",
    "                                                                      Transaction_amount bigint\n",
    "                                                                      )'''\n",
    "cursor.execute(create_query4)\n",
    "mydb.commit()\n",
    "\n",
    "for index,row in Map_Transaction.iterrows():\n",
    "    insert_query4 = '''INSERT INTO map_transaction (States, Years, Quarter, Districts, Transaction_count, Transaction_amount)\n",
    "                                                        values(%s,%s,%s,%s,%s,%s)'''\n",
    "    values = (row[\"States\"],\n",
    "              row[\"Years\"],\n",
    "              row[\"Quarter\"],\n",
    "              row[\"Districts\"],\n",
    "              row[\"Transaction_count\"],\n",
    "              row[\"Transaction_amount\"]\n",
    "              )\n",
    "    cursor.execute(insert_query4,values)\n",
    "    mydb.commit()\n",
    "\n",
    "#map_user_table\n",
    "create_query5 = '''CREATE TABLE if not exists map_user (States varchar(50),\n",
    "                                                                      Years int,\n",
    "                                                                      Quarter int,\n",
    "                                                                      Districts varchar(50),\n",
    "                                                                      Registered_users bigint,\n",
    "                                                                      App_opens bigint\n",
    "                                                                      )'''\n",
    "cursor.execute(create_query5)\n",
    "mydb.commit()\n",
    "\n",
    "for index,row in Map_User.iterrows():\n",
    "    insert_query5 = '''INSERT INTO map_user (States, Years, Quarter, Districts, Registered_users, App_opens)\n",
    "                                                        values(%s,%s,%s,%s,%s,%s)'''\n",
    "    values = (row[\"States\"],\n",
    "              row[\"Years\"],\n",
    "              row[\"Quarter\"],\n",
    "              row[\"Districts\"],\n",
    "              row[\"Registered_users\"],\n",
    "              row[\"App_opens\"]\n",
    "              )\n",
    "    cursor.execute(insert_query5,values)\n",
    "    mydb.commit()"
   ]
  },
  {
   "cell_type": "code",
   "execution_count": 15,
   "metadata": {},
   "outputs": [],
   "source": [
    "#top_insurance_table\n",
    "create_query6 = '''CREATE TABLE if not exists top_insurance (States varchar(50),\n",
    "                                                                      Years int,\n",
    "                                                                      Quarter int,\n",
    "                                                                      Pincodes int,\n",
    "                                                                      Transaction_count bigint,\n",
    "                                                                      Transaction_amount bigint\n",
    "                                                                      )'''\n",
    "cursor.execute(create_query6)\n",
    "mydb.commit()\n",
    "\n",
    "for index,row in Top_issurance.iterrows():\n",
    "    insert_query6 = '''INSERT INTO top_insurance (States, Years, Quarter, Pincodes, Transaction_count, Transaction_amount)\n",
    "                                                        values(%s,%s,%s,%s,%s,%s)'''\n",
    "    values = (row[\"States\"],\n",
    "              row[\"Years\"],\n",
    "              row[\"Quarter\"],\n",
    "              row[\"Pincodes\"],\n",
    "              row[\"Transaction_count\"],\n",
    "              row[\"Transaction_amount\"]\n",
    "              )\n",
    "    cursor.execute(insert_query6,values)\n",
    "    mydb.commit()\n",
    "\n",
    "#top_transaction_table\n",
    "create_query7 = '''CREATE TABLE if not exists top_transaction (States varchar(50),\n",
    "                                                                      Years int,\n",
    "                                                                      Quarter int,\n",
    "                                                                      Pincodes int,\n",
    "                                                                      Transaction_count bigint,\n",
    "                                                                      Transaction_amount bigint\n",
    "                                                                      )'''\n",
    "cursor.execute(create_query7)\n",
    "mydb.commit()\n",
    "\n",
    "for index,row in Top_transaction.iterrows():\n",
    "    insert_query7 = '''INSERT INTO top_transaction (States, Years, Quarter, Pincodes, Transaction_count, Transaction_amount)\n",
    "                                                        values(%s,%s,%s,%s,%s,%s)'''\n",
    "    values = (row[\"States\"],\n",
    "              row[\"Years\"],\n",
    "              row[\"Quarter\"],\n",
    "              row[\"Pincodes\"],\n",
    "              row[\"Transaction_count\"],\n",
    "              row[\"Transaction_amount\"]\n",
    "              )\n",
    "    cursor.execute(insert_query7,values)\n",
    "    mydb.commit()\n",
    "\n",
    " #top_user_table\n",
    "create_query8 = '''CREATE TABLE if not exists top_user (States varchar(50),\n",
    "                                                                      Years int,\n",
    "                                                                      Quarter int,\n",
    "                                                                      Pincodes int,\n",
    "                                                                      Registered_users bigint\n",
    "                                                                      )'''\n",
    "cursor.execute(create_query8)\n",
    "mydb.commit()\n",
    "\n",
    "for index,row in Top_User.iterrows():\n",
    "    insert_query8 = '''INSERT INTO top_user (States, Years, Quarter, Pincodes, Registered_users)\n",
    "                                                        values(%s,%s,%s,%s,%s)'''\n",
    "    values = (row[\"States\"],\n",
    "              row[\"Years\"],\n",
    "              row[\"Quarter\"],\n",
    "              row[\"Pincodes\"],\n",
    "              row[\"Registered_users\"]\n",
    "              )\n",
    "    cursor.execute(insert_query8,values)\n",
    "    mydb.commit()"
   ]
  },
  {
   "cell_type": "code",
   "execution_count": null,
   "metadata": {},
   "outputs": [
    {
     "data": {
      "application/vnd.plotly.v1+json": {
       "config": {
        "plotlyServerURL": "https://plot.ly"
       },
       "data": [
        {
         "coloraxis": "coloraxis",
         "featureidkey": "properties.ST_NM",
         "geo": "geo",
         "geojson": "https://gist.githubusercontent.com/jbrobst/56c13bbbf9d97d187fea01ca62ea5112/raw/e388c4cae20aa53cb5090210a42ebb9b765c0a36/india_states.geojson",
         "hovertemplate": "state=%{location}<br>active cases=%{z}<extra></extra>",
         "locations": [
          "Andaman & Nicobar",
          "Andhra Pradesh",
          "Arunachal Pradesh",
          "Assam",
          "Bihar",
          "Chandigarh",
          "Chhattisgarh",
          "Dadra and Nagar Haveli and Daman and Diu",
          "Delhi",
          "Goa",
          "Gujarat",
          "Haryana",
          "Himachal Pradesh",
          "Jammu & Kashmir",
          "Jharkhand",
          "Karnataka",
          "Kerala",
          "Ladakh",
          "Madhya Pradesh",
          "Maharashtra",
          "Manipur",
          "Meghalaya",
          "Mizoram",
          "Nagaland",
          "Odisha",
          "Puducherry",
          "Punjab",
          "Rajasthan",
          "Sikkim",
          "Tamil Nadu",
          "Telangana",
          "Tripura",
          "Uttarakhand",
          "Uttar Pradesh",
          "West Bengal"
         ],
         "name": "",
         "type": "choropleth",
         "z": [
          47,
          18159,
          387,
          6818,
          7549,
          164,
          1260,
          179,
          17407,
          1272,
          11289,
          5495,
          382,
          5488,
          2069,
          30661,
          5376,
          176,
          5562,
          114947,
          635,
          309,
          112,
          525,
          4436,
          774,
          2587,
          6666,
          155,
          46717,
          13327,
          676,
          937,
          15720,
          13679
         ]
        }
       ],
       "layout": {
        "coloraxis": {
         "colorbar": {
          "title": {
           "text": "active cases"
          }
         },
         "colorscale": [
          [
           0,
           "rgb(255,245,240)"
          ],
          [
           0.125,
           "rgb(254,224,210)"
          ],
          [
           0.25,
           "rgb(252,187,161)"
          ],
          [
           0.375,
           "rgb(252,146,114)"
          ],
          [
           0.5,
           "rgb(251,106,74)"
          ],
          [
           0.625,
           "rgb(239,59,44)"
          ],
          [
           0.75,
           "rgb(203,24,29)"
          ],
          [
           0.875,
           "rgb(165,15,21)"
          ],
          [
           1,
           "rgb(103,0,13)"
          ]
         ]
        },
        "geo": {
         "center": {},
         "domain": {
          "x": [
           0,
           1
          ],
          "y": [
           0,
           1
          ]
         },
         "fitbounds": "locations",
         "visible": false
        },
        "legend": {
         "tracegroupgap": 0
        },
        "margin": {
         "t": 60
        },
        "template": {
         "data": {
          "bar": [
           {
            "error_x": {
             "color": "#2a3f5f"
            },
            "error_y": {
             "color": "#2a3f5f"
            },
            "marker": {
             "line": {
              "color": "#E5ECF6",
              "width": 0.5
             },
             "pattern": {
              "fillmode": "overlay",
              "size": 10,
              "solidity": 0.2
             }
            },
            "type": "bar"
           }
          ],
          "barpolar": [
           {
            "marker": {
             "line": {
              "color": "#E5ECF6",
              "width": 0.5
             },
             "pattern": {
              "fillmode": "overlay",
              "size": 10,
              "solidity": 0.2
             }
            },
            "type": "barpolar"
           }
          ],
          "carpet": [
           {
            "aaxis": {
             "endlinecolor": "#2a3f5f",
             "gridcolor": "white",
             "linecolor": "white",
             "minorgridcolor": "white",
             "startlinecolor": "#2a3f5f"
            },
            "baxis": {
             "endlinecolor": "#2a3f5f",
             "gridcolor": "white",
             "linecolor": "white",
             "minorgridcolor": "white",
             "startlinecolor": "#2a3f5f"
            },
            "type": "carpet"
           }
          ],
          "choropleth": [
           {
            "colorbar": {
             "outlinewidth": 0,
             "ticks": ""
            },
            "type": "choropleth"
           }
          ],
          "contour": [
           {
            "colorbar": {
             "outlinewidth": 0,
             "ticks": ""
            },
            "colorscale": [
             [
              0,
              "#0d0887"
             ],
             [
              0.1111111111111111,
              "#46039f"
             ],
             [
              0.2222222222222222,
              "#7201a8"
             ],
             [
              0.3333333333333333,
              "#9c179e"
             ],
             [
              0.4444444444444444,
              "#bd3786"
             ],
             [
              0.5555555555555556,
              "#d8576b"
             ],
             [
              0.6666666666666666,
              "#ed7953"
             ],
             [
              0.7777777777777778,
              "#fb9f3a"
             ],
             [
              0.8888888888888888,
              "#fdca26"
             ],
             [
              1,
              "#f0f921"
             ]
            ],
            "type": "contour"
           }
          ],
          "contourcarpet": [
           {
            "colorbar": {
             "outlinewidth": 0,
             "ticks": ""
            },
            "type": "contourcarpet"
           }
          ],
          "heatmap": [
           {
            "colorbar": {
             "outlinewidth": 0,
             "ticks": ""
            },
            "colorscale": [
             [
              0,
              "#0d0887"
             ],
             [
              0.1111111111111111,
              "#46039f"
             ],
             [
              0.2222222222222222,
              "#7201a8"
             ],
             [
              0.3333333333333333,
              "#9c179e"
             ],
             [
              0.4444444444444444,
              "#bd3786"
             ],
             [
              0.5555555555555556,
              "#d8576b"
             ],
             [
              0.6666666666666666,
              "#ed7953"
             ],
             [
              0.7777777777777778,
              "#fb9f3a"
             ],
             [
              0.8888888888888888,
              "#fdca26"
             ],
             [
              1,
              "#f0f921"
             ]
            ],
            "type": "heatmap"
           }
          ],
          "heatmapgl": [
           {
            "colorbar": {
             "outlinewidth": 0,
             "ticks": ""
            },
            "colorscale": [
             [
              0,
              "#0d0887"
             ],
             [
              0.1111111111111111,
              "#46039f"
             ],
             [
              0.2222222222222222,
              "#7201a8"
             ],
             [
              0.3333333333333333,
              "#9c179e"
             ],
             [
              0.4444444444444444,
              "#bd3786"
             ],
             [
              0.5555555555555556,
              "#d8576b"
             ],
             [
              0.6666666666666666,
              "#ed7953"
             ],
             [
              0.7777777777777778,
              "#fb9f3a"
             ],
             [
              0.8888888888888888,
              "#fdca26"
             ],
             [
              1,
              "#f0f921"
             ]
            ],
            "type": "heatmapgl"
           }
          ],
          "histogram": [
           {
            "marker": {
             "pattern": {
              "fillmode": "overlay",
              "size": 10,
              "solidity": 0.2
             }
            },
            "type": "histogram"
           }
          ],
          "histogram2d": [
           {
            "colorbar": {
             "outlinewidth": 0,
             "ticks": ""
            },
            "colorscale": [
             [
              0,
              "#0d0887"
             ],
             [
              0.1111111111111111,
              "#46039f"
             ],
             [
              0.2222222222222222,
              "#7201a8"
             ],
             [
              0.3333333333333333,
              "#9c179e"
             ],
             [
              0.4444444444444444,
              "#bd3786"
             ],
             [
              0.5555555555555556,
              "#d8576b"
             ],
             [
              0.6666666666666666,
              "#ed7953"
             ],
             [
              0.7777777777777778,
              "#fb9f3a"
             ],
             [
              0.8888888888888888,
              "#fdca26"
             ],
             [
              1,
              "#f0f921"
             ]
            ],
            "type": "histogram2d"
           }
          ],
          "histogram2dcontour": [
           {
            "colorbar": {
             "outlinewidth": 0,
             "ticks": ""
            },
            "colorscale": [
             [
              0,
              "#0d0887"
             ],
             [
              0.1111111111111111,
              "#46039f"
             ],
             [
              0.2222222222222222,
              "#7201a8"
             ],
             [
              0.3333333333333333,
              "#9c179e"
             ],
             [
              0.4444444444444444,
              "#bd3786"
             ],
             [
              0.5555555555555556,
              "#d8576b"
             ],
             [
              0.6666666666666666,
              "#ed7953"
             ],
             [
              0.7777777777777778,
              "#fb9f3a"
             ],
             [
              0.8888888888888888,
              "#fdca26"
             ],
             [
              1,
              "#f0f921"
             ]
            ],
            "type": "histogram2dcontour"
           }
          ],
          "mesh3d": [
           {
            "colorbar": {
             "outlinewidth": 0,
             "ticks": ""
            },
            "type": "mesh3d"
           }
          ],
          "parcoords": [
           {
            "line": {
             "colorbar": {
              "outlinewidth": 0,
              "ticks": ""
             }
            },
            "type": "parcoords"
           }
          ],
          "pie": [
           {
            "automargin": true,
            "type": "pie"
           }
          ],
          "scatter": [
           {
            "fillpattern": {
             "fillmode": "overlay",
             "size": 10,
             "solidity": 0.2
            },
            "type": "scatter"
           }
          ],
          "scatter3d": [
           {
            "line": {
             "colorbar": {
              "outlinewidth": 0,
              "ticks": ""
             }
            },
            "marker": {
             "colorbar": {
              "outlinewidth": 0,
              "ticks": ""
             }
            },
            "type": "scatter3d"
           }
          ],
          "scattercarpet": [
           {
            "marker": {
             "colorbar": {
              "outlinewidth": 0,
              "ticks": ""
             }
            },
            "type": "scattercarpet"
           }
          ],
          "scattergeo": [
           {
            "marker": {
             "colorbar": {
              "outlinewidth": 0,
              "ticks": ""
             }
            },
            "type": "scattergeo"
           }
          ],
          "scattergl": [
           {
            "marker": {
             "colorbar": {
              "outlinewidth": 0,
              "ticks": ""
             }
            },
            "type": "scattergl"
           }
          ],
          "scattermapbox": [
           {
            "marker": {
             "colorbar": {
              "outlinewidth": 0,
              "ticks": ""
             }
            },
            "type": "scattermapbox"
           }
          ],
          "scatterpolar": [
           {
            "marker": {
             "colorbar": {
              "outlinewidth": 0,
              "ticks": ""
             }
            },
            "type": "scatterpolar"
           }
          ],
          "scatterpolargl": [
           {
            "marker": {
             "colorbar": {
              "outlinewidth": 0,
              "ticks": ""
             }
            },
            "type": "scatterpolargl"
           }
          ],
          "scatterternary": [
           {
            "marker": {
             "colorbar": {
              "outlinewidth": 0,
              "ticks": ""
             }
            },
            "type": "scatterternary"
           }
          ],
          "surface": [
           {
            "colorbar": {
             "outlinewidth": 0,
             "ticks": ""
            },
            "colorscale": [
             [
              0,
              "#0d0887"
             ],
             [
              0.1111111111111111,
              "#46039f"
             ],
             [
              0.2222222222222222,
              "#7201a8"
             ],
             [
              0.3333333333333333,
              "#9c179e"
             ],
             [
              0.4444444444444444,
              "#bd3786"
             ],
             [
              0.5555555555555556,
              "#d8576b"
             ],
             [
              0.6666666666666666,
              "#ed7953"
             ],
             [
              0.7777777777777778,
              "#fb9f3a"
             ],
             [
              0.8888888888888888,
              "#fdca26"
             ],
             [
              1,
              "#f0f921"
             ]
            ],
            "type": "surface"
           }
          ],
          "table": [
           {
            "cells": {
             "fill": {
              "color": "#EBF0F8"
             },
             "line": {
              "color": "white"
             }
            },
            "header": {
             "fill": {
              "color": "#C8D4E3"
             },
             "line": {
              "color": "white"
             }
            },
            "type": "table"
           }
          ]
         },
         "layout": {
          "annotationdefaults": {
           "arrowcolor": "#2a3f5f",
           "arrowhead": 0,
           "arrowwidth": 1
          },
          "autotypenumbers": "strict",
          "coloraxis": {
           "colorbar": {
            "outlinewidth": 0,
            "ticks": ""
           }
          },
          "colorscale": {
           "diverging": [
            [
             0,
             "#8e0152"
            ],
            [
             0.1,
             "#c51b7d"
            ],
            [
             0.2,
             "#de77ae"
            ],
            [
             0.3,
             "#f1b6da"
            ],
            [
             0.4,
             "#fde0ef"
            ],
            [
             0.5,
             "#f7f7f7"
            ],
            [
             0.6,
             "#e6f5d0"
            ],
            [
             0.7,
             "#b8e186"
            ],
            [
             0.8,
             "#7fbc41"
            ],
            [
             0.9,
             "#4d9221"
            ],
            [
             1,
             "#276419"
            ]
           ],
           "sequential": [
            [
             0,
             "#0d0887"
            ],
            [
             0.1111111111111111,
             "#46039f"
            ],
            [
             0.2222222222222222,
             "#7201a8"
            ],
            [
             0.3333333333333333,
             "#9c179e"
            ],
            [
             0.4444444444444444,
             "#bd3786"
            ],
            [
             0.5555555555555556,
             "#d8576b"
            ],
            [
             0.6666666666666666,
             "#ed7953"
            ],
            [
             0.7777777777777778,
             "#fb9f3a"
            ],
            [
             0.8888888888888888,
             "#fdca26"
            ],
            [
             1,
             "#f0f921"
            ]
           ],
           "sequentialminus": [
            [
             0,
             "#0d0887"
            ],
            [
             0.1111111111111111,
             "#46039f"
            ],
            [
             0.2222222222222222,
             "#7201a8"
            ],
            [
             0.3333333333333333,
             "#9c179e"
            ],
            [
             0.4444444444444444,
             "#bd3786"
            ],
            [
             0.5555555555555556,
             "#d8576b"
            ],
            [
             0.6666666666666666,
             "#ed7953"
            ],
            [
             0.7777777777777778,
             "#fb9f3a"
            ],
            [
             0.8888888888888888,
             "#fdca26"
            ],
            [
             1,
             "#f0f921"
            ]
           ]
          },
          "colorway": [
           "#636efa",
           "#EF553B",
           "#00cc96",
           "#ab63fa",
           "#FFA15A",
           "#19d3f3",
           "#FF6692",
           "#B6E880",
           "#FF97FF",
           "#FECB52"
          ],
          "font": {
           "color": "#2a3f5f"
          },
          "geo": {
           "bgcolor": "white",
           "lakecolor": "white",
           "landcolor": "#E5ECF6",
           "showlakes": true,
           "showland": true,
           "subunitcolor": "white"
          },
          "hoverlabel": {
           "align": "left"
          },
          "hovermode": "closest",
          "mapbox": {
           "style": "light"
          },
          "paper_bgcolor": "white",
          "plot_bgcolor": "#E5ECF6",
          "polar": {
           "angularaxis": {
            "gridcolor": "white",
            "linecolor": "white",
            "ticks": ""
           },
           "bgcolor": "#E5ECF6",
           "radialaxis": {
            "gridcolor": "white",
            "linecolor": "white",
            "ticks": ""
           }
          },
          "scene": {
           "xaxis": {
            "backgroundcolor": "#E5ECF6",
            "gridcolor": "white",
            "gridwidth": 2,
            "linecolor": "white",
            "showbackground": true,
            "ticks": "",
            "zerolinecolor": "white"
           },
           "yaxis": {
            "backgroundcolor": "#E5ECF6",
            "gridcolor": "white",
            "gridwidth": 2,
            "linecolor": "white",
            "showbackground": true,
            "ticks": "",
            "zerolinecolor": "white"
           },
           "zaxis": {
            "backgroundcolor": "#E5ECF6",
            "gridcolor": "white",
            "gridwidth": 2,
            "linecolor": "white",
            "showbackground": true,
            "ticks": "",
            "zerolinecolor": "white"
           }
          },
          "shapedefaults": {
           "line": {
            "color": "#2a3f5f"
           }
          },
          "ternary": {
           "aaxis": {
            "gridcolor": "white",
            "linecolor": "white",
            "ticks": ""
           },
           "baxis": {
            "gridcolor": "white",
            "linecolor": "white",
            "ticks": ""
           },
           "bgcolor": "#E5ECF6",
           "caxis": {
            "gridcolor": "white",
            "linecolor": "white",
            "ticks": ""
           }
          },
          "title": {
           "x": 0.05
          },
          "xaxis": {
           "automargin": true,
           "gridcolor": "white",
           "linecolor": "white",
           "ticks": "",
           "title": {
            "standoff": 15
           },
           "zerolinecolor": "white",
           "zerolinewidth": 2
          },
          "yaxis": {
           "automargin": true,
           "gridcolor": "white",
           "linecolor": "white",
           "ticks": "",
           "title": {
            "standoff": 15
           },
           "zerolinecolor": "white",
           "zerolinewidth": 2
          }
         }
        }
       }
      }
     },
     "metadata": {},
     "output_type": "display_data"
    }
   ],
   "source": [
    "# import pandas as pd\n",
    "# import plotly.express as px\n",
    "\n",
    "# df = pd.read_csv(\"https://gist.githubusercontent.com/jbrobst/56c13bbbf9d97d187fea01ca62ea5112/raw/e388c4cae20aa53cb5090210a42ebb9b765c0a36/active_cases_2020-07-17_0800.csv\")\n",
    "\n",
    "# fig = px.choropleth(\n",
    "#     df,\n",
    "#     geojson=\"https://gist.githubusercontent.com/jbrobst/56c13bbbf9d97d187fea01ca62ea5112/raw/e388c4cae20aa53cb5090210a42ebb9b765c0a36/india_states.geojson\",\n",
    "#     featureidkey='properties.ST_NM',\n",
    "#     locations='state',\n",
    "#     color='active cases',\n",
    "#     color_continuous_scale='Reds'\n",
    "# )\n",
    "\n",
    "# fig.update_geos(fitbounds=\"locations\", visible=False)\n",
    "\n",
    "# fig.show()"
   ]
  }
 ],
 "metadata": {
  "kernelspec": {
   "display_name": ".venv",
   "language": "python",
   "name": "python3"
  },
  "language_info": {
   "codemirror_mode": {
    "name": "ipython",
    "version": 3
   },
   "file_extension": ".py",
   "mimetype": "text/x-python",
   "name": "python",
   "nbconvert_exporter": "python",
   "pygments_lexer": "ipython3",
   "version": "3.7.8"
  }
 },
 "nbformat": 4,
 "nbformat_minor": 2
}
